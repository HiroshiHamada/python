{
 "cells": [
  {
   "cell_type": "markdown",
   "metadata": {},
   "source": [
    "# Boltzmann Money modelのコード確認"
   ]
  },
  {
   "cell_type": "code",
   "execution_count": 47,
   "metadata": {
    "collapsed": true
   },
   "outputs": [],
   "source": [
    "import random\n",
    "from mesa import Agent, Model\n",
    "from mesa.time import RandomActivation\n",
    "\n",
    "class MoneyAgent(Agent):\n",
    "    \"\"\" An agent with fixed initial wealth.\"\"\"\n",
    "    def __init__(self, unique_id, model):\n",
    "        super().__init__(unique_id, model)#スーパークラスの初期化メソッドを継承\n",
    "        self.wealth = 1 #アトリビュートwealth定義\n",
    "\n",
    "    def step(self): # MoneyAgent のstepメソッドにお金を渡す動作を指定する\n",
    "        if self.wealth == 0: #自分の富が0なら何もしない\n",
    "            return\n",
    "        other_agent = random.choice(self.model.schedule.agents)#modelのschedule属性からagents情報を取得\n",
    "        #　 other_agent　には他者が1人はいる．自分自身を選ぶこともある　print(other_agent)\n",
    "        other_agent.wealth += 1\n",
    "        self.wealth -= 1       \n",
    "        \n",
    "\n",
    "class MoneyModel(Model):\n",
    "    \"\"\"A model with some number of agents.\"\"\"\n",
    "    # MoneyModelクラスの初期化メソッド\n",
    "    def __init__(self, N): #初期化メソッドの引数はN.selfはデフォ．\n",
    "        self.num_agents = N#num_agentsアトリビュートにNを代入\n",
    "        self.schedule = RandomActivation(self) # scheduleアトリビュートにRandomActivationクラスを指定\n",
    "        for i in range(self.num_agents):\n",
    "            a = MoneyAgent(i, self)#Agentクラスをインスタンス化．ここでMoneyAgent クラスのunique_idが決まる．\n",
    "            self.schedule.add(a) # a をschedule.addの引数として渡す．\n",
    "            #このaddメソッドでagents(リスト)の中身がMoneyAgent classのインスタンス\n",
    "        # MoneyModelクラスの初期化メソッドココまで\n",
    "\n",
    "    def step(self):\n",
    "        '''Advance the model by one step.'''\n",
    "        self.schedule.step()#このstepはRandomActivationクラスのメソッド\n",
    "        #　中身は\n",
    "        \"\"\"\n",
    "        def step(self):\n",
    "        random.shuffle(self.agents)\n",
    "        for agent in self.agents:\n",
    "            agent.step()\n",
    "        self.steps += 1\n",
    "        self.time += 1\n",
    "        \"\"\"\n"
   ]
  },
  {
   "cell_type": "code",
   "execution_count": 48,
   "metadata": {},
   "outputs": [
    {
     "data": {
      "text/plain": [
       "(array([ 4.,  0.,  0.,  3.,  0.,  0.,  2.,  0.,  0.,  1.]),\n",
       " array([ 0. ,  0.3,  0.6,  0.9,  1.2,  1.5,  1.8,  2.1,  2.4,  2.7,  3. ]),\n",
       " <a list of 10 Patch objects>)"
      ]
     },
     "execution_count": 48,
     "metadata": {},
     "output_type": "execute_result"
    },
    {
     "data": {
      "image/png": "[encoded data removed]",
      "text/plain": [
       "<matplotlib.figure.Figure at 0x158f5238dd8>"
      ]
     },
     "metadata": {},
     "output_type": "display_data"
    }
   ],
   "source": [
    "# モデルを1回実行\n",
    "model = MoneyModel(10)\n",
    "#for i in range(10):\n",
    "model.step()\n",
    "\n",
    "# For a jupyter notebook add the following line:\n",
    "%matplotlib inline\n",
    "\n",
    "# The below is needed for both notebooks and scripts\n",
    "import matplotlib.pyplot as plt\n",
    "\n",
    "agent_wealth = [a.wealth for a in model.schedule.agents]\n",
    "plt.hist(agent_wealth)\n"
   ]
  },
  {
   "cell_type": "code",
   "execution_count": 49,
   "metadata": {},
   "outputs": [
    {
     "data": {
      "text/plain": [
       "(array([ 439.,  287.,  161.,   73.,   30.,   10.]),\n",
       " array([0, 1, 2, 3, 4, 5, 6]),\n",
       " <a list of 6 Patch objects>)"
      ]
     },
     "execution_count": 49,
     "metadata": {},
     "output_type": "execute_result"
    },
    {
     "data": {
      "image/png": "[encoded data removed]",
      "text/plain": [
       "<matplotlib.figure.Figure at 0x158f57315c0>"
      ]
     },
     "metadata": {},
     "output_type": "display_data"
    }
   ],
   "source": [
    "all_wealth = []\n",
    "for j in range(100):# index j で100回繰り返し\n",
    "    # Run the model\n",
    "    model = MoneyModel(10)# 10人でmodelをインスタンス化\n",
    "    for i in range(10):\n",
    "        model.step() # modelのメソッドstepを10回繰り返す．\n",
    "    \n",
    "    # Store the results\n",
    "    for agent in model.schedule.agents:\n",
    "        all_wealth.append(agent.wealth)\n",
    "\n",
    "plt.hist(all_wealth, bins=range(max(all_wealth)+1))\n"
   ]
  },
  {
   "cell_type": "markdown",
   "metadata": {},
   "source": [
    "## 確認"
   ]
  },
  {
   "cell_type": "code",
   "execution_count": 50,
   "metadata": {},
   "outputs": [
    {
     "data": {
      "text/plain": [
       "<mesa.time.RandomActivation at 0x158f5694320>"
      ]
     },
     "execution_count": 50,
     "metadata": {},
     "output_type": "execute_result"
    }
   ],
   "source": [
    "# model = MoneyModel(50)のアトリビュート（schedule）はRandomActivationのインスタンス\n",
    "model = MoneyModel(10)\n",
    "model.schedule\n"
   ]
  },
  {
   "cell_type": "code",
   "execution_count": 51,
   "metadata": {},
   "outputs": [
    {
     "data": {
      "text/plain": [
       "[<__main__.MoneyAgent at 0x158f56641d0>,\n",
       " <__main__.MoneyAgent at 0x158f5664a58>,\n",
       " <__main__.MoneyAgent at 0x158f5664710>,\n",
       " <__main__.MoneyAgent at 0x158f5664780>,\n",
       " <__main__.MoneyAgent at 0x158f5664908>,\n",
       " <__main__.MoneyAgent at 0x158f557d160>,\n",
       " <__main__.MoneyAgent at 0x158f557dc18>,\n",
       " <__main__.MoneyAgent at 0x158f5378400>,\n",
       " <__main__.MoneyAgent at 0x158f1ed0048>,\n",
       " <__main__.MoneyAgent at 0x158f55d7a20>]"
      ]
     },
     "execution_count": 51,
     "metadata": {},
     "output_type": "execute_result"
    }
   ],
   "source": [
    "# RandomActivationのインスタンスのアトリビュート.agentはMoneyAgentインスタンスのリスト\n",
    "model.schedule.agents\n"
   ]
  },
  {
   "cell_type": "code",
   "execution_count": 52,
   "metadata": {},
   "outputs": [
    {
     "data": {
      "text/plain": [
       "<__main__.MoneyAgent at 0x158f56641d0>"
      ]
     },
     "execution_count": 52,
     "metadata": {},
     "output_type": "execute_result"
    }
   ],
   "source": [
    "model.schedule.agents[0]\n"
   ]
  },
  {
   "cell_type": "code",
   "execution_count": 53,
   "metadata": {},
   "outputs": [
    {
     "data": {
      "text/plain": [
       "1"
      ]
     },
     "execution_count": 53,
     "metadata": {},
     "output_type": "execute_result"
    }
   ],
   "source": [
    "# アトリビュート確認．step実行前なので，全員1\n",
    "model.schedule.agents[0].wealth\n"
   ]
  },
  {
   "cell_type": "code",
   "execution_count": 54,
   "metadata": {},
   "outputs": [
    {
     "data": {
      "text/plain": [
       "[1, 1, 1, 1, 1, 1, 1, 1, 1, 1]"
      ]
     },
     "execution_count": 54,
     "metadata": {},
     "output_type": "execute_result"
    }
   ],
   "source": [
    "[model.schedule.agents[i].wealth for i in range(10)]\n"
   ]
  },
  {
   "cell_type": "markdown",
   "metadata": {},
   "source": [
    "## 参照元のスーパークラス一覧"
   ]
  },
  {
   "cell_type": "code",
   "execution_count": null,
   "metadata": {
    "collapsed": true
   },
   "outputs": [],
   "source": []
  },
  {
   "cell_type": "code",
   "execution_count": 55,
   "metadata": {
    "collapsed": true
   },
   "outputs": [],
   "source": [
    "class Agent:\n",
    "    \"\"\" Base class for a model agent. \"\"\"\n",
    "    def __init__(self, unique_id, model):\n",
    "        \"\"\" Create a new agent. \"\"\"\n",
    "        self.unique_id = unique_id\n",
    "        self.model = model\n",
    "\n",
    "    def step(self):\n",
    "        \"\"\" A single step of the agent. \"\"\"\n",
    "        pass\n"
   ]
  },
  {
   "cell_type": "code",
   "execution_count": 56,
   "metadata": {
    "collapsed": true
   },
   "outputs": [],
   "source": [
    "# Core Objects: Model\n",
    "\n",
    "import datetime as dt\n",
    "import random\n",
    "\n",
    "\n",
    "class Model:\n",
    "    def __init__(self, seed=None):\n",
    "        \"\"\" Create a new model. Overload this method with the actual code to start the model.\n",
    "        Args:\n",
    "            seed: seed for the random number generator\n",
    "        Attributes:\n",
    "            schedule: schedule object\n",
    "            running: a bool indicating if the model should continue running\n",
    "        \"\"\"\n",
    "        if seed is None:\n",
    "            self.seed = dt.datetime.now()\n",
    "        else:\n",
    "            self.seed = seed\n",
    "        random.seed(seed)\n",
    "        self.running = True\n",
    "        self.schedule = None\n",
    "\n",
    "    def run_model(self):\n",
    "        \"\"\" Run the model until the end condition is reached. Overload as\n",
    "        needed.\n",
    "        \"\"\"\n",
    "        while self.running:\n",
    "            self.step()\n",
    "\n",
    "    def step(self):\n",
    "        \"\"\" A single step. Fill in here. \"\"\"\n",
    "        pass\n"
   ]
  },
  {
   "cell_type": "code",
   "execution_count": 57,
   "metadata": {
    "collapsed": true
   },
   "outputs": [],
   "source": [
    "import random\n",
    "\n",
    "class BaseScheduler:\n",
    "    \"\"\" Simplest scheduler; activates agents one at a time, in the order\n",
    "    they were added. Assumes that each agent added has a *step* method which takes no arguments.\n",
    "    (This is explicitly meant to replicate the scheduler in MASON).\n",
    "\n",
    "    \"\"\"\n",
    "    model = None\n",
    "    steps = 0\n",
    "    time = 0\n",
    "    agents = []\n",
    "\n",
    "    def __init__(self, model):\n",
    "        \"\"\" Create a new, empty BaseScheduler. \"\"\"\n",
    "        self.model = model\n",
    "        self.steps = 0\n",
    "        self.time = 0\n",
    "        self.agents = []\n",
    "\n",
    "    def add(self, agent):\n",
    "        \"\"\" Add an Agent object to the schedule.\n",
    "        Args:\n",
    "            agent: An Agent to be added to the schedule. NOTE: The agent must\n",
    "            have a step() method.\n",
    "\n",
    "        \"\"\"\n",
    "        self.agents.append(agent)\n",
    "\n",
    "    def remove(self, agent):\n",
    "        \"\"\" Remove all instances of a given agent from the schedule.\n",
    "        Args:\n",
    "            agent: An agent object.\n",
    "        \"\"\"\n",
    "        while agent in self.agents:\n",
    "            self.agents.remove(agent)\n",
    "\n",
    "    def step(self):\n",
    "        \"\"\" Execute the step of all the agents, one at a time. \"\"\"\n",
    "        for agent in self.agents:\n",
    "            agent.step()\n",
    "        self.steps += 1\n",
    "        self.time += 1\n",
    "\n",
    "    def get_agent_count(self):\n",
    "        \"\"\" Returns the current number of agents in the queue. \"\"\"\n",
    "        return len(self.agents)\n",
    "\n"
   ]
  },
  {
   "cell_type": "code",
   "execution_count": 58,
   "metadata": {
    "collapsed": true
   },
   "outputs": [],
   "source": [
    "class RandomActivation(BaseScheduler):\n",
    "    \"\"\" A scheduler which activates each agent once per step, in random order．\n",
    "    RandomActivationの中身\n",
    "    \"\"\"\n",
    "    def step(self):\n",
    "        \"\"\" Executes the step of all agents, one at a time, in random order.\n",
    "        ランダムな順番で実行するためのメソッド．\n",
    "        \"\"\"\n",
    "        random.shuffle(self.agents)\n",
    "        for agent in self.agents:\n",
    "            agent.step()\n",
    "        self.steps += 1\n",
    "        self.time += 1\n",
    "        "
   ]
  }
 ],
 "metadata": {
  "kernelspec": {
   "display_name": "Python 3",
   "language": "python",
   "name": "python3"
  },
  "language_info": {
   "codemirror_mode": {
    "name": "ipython",
    "version": 3
   },
   "file_extension": ".py",
   "mimetype": "text/x-python",
   "name": "python",
   "nbconvert_exporter": "python",
   "pygments_lexer": "ipython3",
   "version": "3.6.1"
  }
 },
 "nbformat": 4,
 "nbformat_minor": 2
}
