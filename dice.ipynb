{
 "cells": [
  {
   "cell_type": "markdown",
   "metadata": {},
   "source": [
    "###  数理行動科学演習資料"
   ]
  },
  {
   "cell_type": "markdown",
   "metadata": {},
   "source": [
    "## サイコロをつくろう"
   ]
  },
  {
   "cell_type": "markdown",
   "metadata": {},
   "source": [
    "最初にパッケージを読みこみます"
   ]
  },
  {
   "cell_type": "code",
   "execution_count": 12,
   "metadata": {
    "collapsed": true
   },
   "outputs": [],
   "source": [
    "import random #乱数発生用\n",
    "import matplotlib.pyplot as plt #ヒストグラム用"
   ]
  },
  {
   "cell_type": "markdown",
   "metadata": {},
   "source": [
    "次にDiceというサイコロ用クラスを定義します"
   ]
  },
  {
   "cell_type": "code",
   "execution_count": 13,
   "metadata": {
    "collapsed": true
   },
   "outputs": [],
   "source": [
    "class Dice:\n",
    "    def shoot(self):\n",
    "        return random.randint(1,6)"
   ]
  },
  {
   "cell_type": "markdown",
   "metadata": {},
   "source": [
    "この Diceというクラスでは，1～6の整数乱数を発生させる\n",
    "shootというメソッドを定義しています．\n",
    "\n",
    "このままでは，サイコロを振ることができないので，\n",
    "Diceクラスのオブジェクトをインスタンス化します．\n",
    "\n",
    "インスタンス化 = オブジェクトの実例を作る，くらいの意味だと考えてください．"
   ]
  },
  {
   "cell_type": "code",
   "execution_count": 14,
   "metadata": {
    "collapsed": true
   },
   "outputs": [],
   "source": [
    "sai = Dice() #Diceクラスのインスタンス化"
   ]
  },
  {
   "cell_type": "markdown",
   "metadata": {},
   "source": [
    "これでsaiという名前のオブジェクトが定義されました．\n",
    "次にsaiのメソッドを呼び出してみましょう\n",
    "\n",
    "Diceクラスにはshootしかメソッドがありません．"
   ]
  },
  {
   "cell_type": "code",
   "execution_count": 15,
   "metadata": {},
   "outputs": [
    {
     "data": {
      "text/plain": [
       "3"
      ]
     },
     "execution_count": 15,
     "metadata": {},
     "output_type": "execute_result"
    }
   ],
   "source": [
    "sai.shoot() #メソッドの呼び出し"
   ]
  },
  {
   "cell_type": "markdown",
   "metadata": {},
   "source": [
    "このように，メソッドを使うには，\n",
    "\n",
    "オブジェクト名.メソッド名()\n",
    "\n",
    "のように，「.」のあとに続けてメソッド名を書きます.\n",
    "メソッドが引数をとらない場合は()を最後につけます．\n",
    "引数がある場合は\n",
    "\n",
    "オブジェクト名.メソッド名(メソッドの引数)\n",
    "\n",
    "という具合に使います．"
   ]
  },
  {
   "cell_type": "markdown",
   "metadata": {},
   "source": [
    "さて，sai.shoot()は実行するたびにサイコロを振るので結果が\n",
    "異なるので，同じサイコロを五回振ってみましょう\n",
    "\n",
    "そのためにfor文でサイコロ振りの結果をリストxに記録します"
   ]
  },
  {
   "cell_type": "code",
   "execution_count": 16,
   "metadata": {},
   "outputs": [
    {
     "data": {
      "text/plain": [
       "[4, 5, 6, 1, 4, 5, 5, 6, 2, 3]"
      ]
     },
     "execution_count": 16,
     "metadata": {},
     "output_type": "execute_result"
    }
   ],
   "source": [
    "x=[]\n",
    "for i in range(10): # 10回繰り返し．rrangeで指定\n",
    "    x.append(sai.shoot()) #list用メソッドappendを使う\n",
    "x #結果の呼び出し"
   ]
  },
  {
   "cell_type": "markdown",
   "metadata": {},
   "source": [
    "## x面体サイコロ"
   ]
  },
  {
   "cell_type": "markdown",
   "metadata": {},
   "source": [
    "つぎに，6面体だけでなく，10面体や20面体など好きな面数のサイコロを\n",
    "つくってみましょう\n",
    "\n",
    "そのためにfaceという引数を使って，面数を選べるサイコロ用クラスを\n",
    "新たに作ります"
   ]
  },
  {
   "cell_type": "code",
   "execution_count": 17,
   "metadata": {
    "collapsed": true
   },
   "outputs": [],
   "source": [
    "class Dice:\n",
    "    def __init__(self, x):\n",
    "        self.face = x\n",
    "        print(\"This dice has\",x,\"faces\" )\n",
    "    def shoot(self):\n",
    "        return random.randint(1, self.face)"
   ]
  },
  {
   "cell_type": "markdown",
   "metadata": {},
   "source": [
    "さっきと同じDiceというクラスを定義しました．\n",
    "したがってDiceクラスは上書きされます．\n",
    "\n",
    "あたらしいクラスでは，初期化メソッド（コンストラクタとも言う）\n",
    "\n",
    "def __init__(self, 引数):\n",
    "\n",
    "を使っています．初期化メソッドにより，faceという属性を定義しています．\n",
    "インスタンス化する際にface属性に引数の値を代入します．ここでは\n",
    "face属性がサイコロの面数を表しています．好きな面数を定義するために\n",
    "引数化しています．\n",
    "\n",
    "なおselfを明示的に指定するのはpythonの特徴です．最初はよく書き忘れるので\n",
    "注意しましょう（わたしもよく忘れます）．\n",
    "\n",
    "ではインスタンス化してみましょう"
   ]
  },
  {
   "cell_type": "code",
   "execution_count": 18,
   "metadata": {},
   "outputs": [
    {
     "name": "stdout",
     "output_type": "stream",
     "text": [
      "This dice has 10 faces\n"
     ]
    }
   ],
   "source": [
    "sai10 = Dice(10) # 10面体サイコロ"
   ]
  },
  {
   "cell_type": "markdown",
   "metadata": {},
   "source": [
    "インスタンス化すると「This dice has 10 faces（これは10面体のさいころです）」という\n",
    "メッセージが出てきました．初期化メソッドの2行目でprintするように指定したからです．\n",
    "\n",
    "では振ってみましょう．10面体さいころなので1～10の数値がでます"
   ]
  },
  {
   "cell_type": "code",
   "execution_count": 19,
   "metadata": {},
   "outputs": [
    {
     "data": {
      "text/plain": [
       "6"
      ]
     },
     "execution_count": 19,
     "metadata": {},
     "output_type": "execute_result"
    }
   ],
   "source": [
    "sai10.shoot()"
   ]
  },
  {
   "cell_type": "markdown",
   "metadata": {},
   "source": [
    "つぎに20回連続してふってみましょう"
   ]
  },
  {
   "cell_type": "code",
   "execution_count": 20,
   "metadata": {},
   "outputs": [
    {
     "data": {
      "text/plain": [
       "[5, 10, 4, 3, 4, 1, 10, 6, 4, 10, 4, 3, 1, 2, 4, 6, 2, 9, 4, 10]"
      ]
     },
     "execution_count": 20,
     "metadata": {},
     "output_type": "execute_result"
    }
   ],
   "source": [
    "x=[]\n",
    "for i in range(20):\n",
    "    x.append(sai10.shoot())\n",
    "x"
   ]
  },
  {
   "cell_type": "markdown",
   "metadata": {},
   "source": [
    "なお，このappendの使いかたは計算結果を保存するためによく使うので\n",
    "覚えておいてください"
   ]
  },
  {
   "cell_type": "markdown",
   "metadata": {},
   "source": [
    "最後にサイコロ振りの結果をヒストグラムで可視化してみましょう．\n",
    "\n",
    "まず plotをインライン表示するオプションを有効にします"
   ]
  },
  {
   "cell_type": "code",
   "execution_count": 21,
   "metadata": {
    "collapsed": true
   },
   "outputs": [],
   "source": [
    "%matplotlib inline"
   ]
  },
  {
   "cell_type": "markdown",
   "metadata": {},
   "source": [
    "for文でサイコロを1万回振り，各目が何回出たのか調べます\n",
    "\n",
    "これはhistメソッドが勝手にやってくれます"
   ]
  },
  {
   "cell_type": "code",
   "execution_count": 22,
   "metadata": {},
   "outputs": [
    {
     "data": {
      "text/plain": [
       "(array([  975.,   983.,  1030.,  1072.,   995.,  1015.,   959.,   969.,\n",
       "         1008.,   994.]),\n",
       " array([  1. ,   1.9,   2.8,   3.7,   4.6,   5.5,   6.4,   7.3,   8.2,\n",
       "          9.1,  10. ]),\n",
       " <a list of 10 Patch objects>)"
      ]
     },
     "execution_count": 22,
     "metadata": {},
     "output_type": "execute_result"
    },
    {
     "data": {
      "image/png": "[encoded data removed]",
      "text/plain": [
       "<matplotlib.figure.Figure at 0x23e5389e550>"
      ]
     },
     "metadata": {},
     "output_type": "display_data"
    }
   ],
   "source": [
    "x=[]\n",
    "for i in range(10000):\n",
    "    x.append(sai10.shoot())\n",
    "    \n",
    "plt.hist(x,bins=10)# ヒストグラムを出力. binsで刻み数を指定\n"
   ]
  },
  {
   "cell_type": "markdown",
   "metadata": {
    "collapsed": true
   },
   "source": [
    "各目が大体1000回前後出現した様子が観察できました"
   ]
  },
  {
   "cell_type": "markdown",
   "metadata": {},
   "source": [
    "### 今回の宿題：\n",
    "\n",
    "15面体サイコロを作って，3万回振った結果をplotしてみましょう\n",
    "\n",
    "ヒント\n",
    "\n",
    "1.　15面体サイコロをインスタンス化します\n",
    "\n",
    "2.　for文で15000回反復して結果を記録します\n",
    "\n",
    "3.　結果をhistでプロットします．出目が15個あるので\n",
    "　　plt.hist(x,bins=15)　などと指定するとよいでしょう．\n",
    "\n",
    "\n"
   ]
  }
 ],
 "metadata": {
  "kernelspec": {
   "display_name": "Python 3",
   "language": "python",
   "name": "python3"
  },
  "language_info": {
   "codemirror_mode": {
    "name": "ipython",
    "version": 3
   },
   "file_extension": ".py",
   "mimetype": "text/x-python",
   "name": "python",
   "nbconvert_exporter": "python",
   "pygments_lexer": "ipython3",
   "version": "3.6.1"
  }
 },
 "nbformat": 4,
 "nbformat_minor": 2
}
