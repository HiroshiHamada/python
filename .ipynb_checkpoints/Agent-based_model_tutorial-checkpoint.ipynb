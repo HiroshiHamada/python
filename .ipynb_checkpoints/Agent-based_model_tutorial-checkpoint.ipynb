{
 "cells": [
  {
   "cell_type": "markdown",
   "metadata": {},
   "source": [
    "# Agent-based model のチュートリアル\n",
    "\n",
    "このノートブックでは Boltzmann money modelを例にAgent-based Modelのコードの書き方を解説する．\n",
    "コードはPythonで実装し，最小限のコードでクラスオブジェクトを使った計算の例を示す．"
   ]
  },
  {
   "cell_type": "markdown",
   "metadata": {},
   "source": [
    "## Boltzmann money model\n",
    "\n",
    "Dragulescu と Yakovenko　は所得不平等の生成プロセスを説明するに，シンプルなモデルを提唱した．\n",
    "仮定は以下の通り([Yakovenkoさんのwebsite](http://physics.umd.edu/~yakovenk/econophysics/))\n",
    "\n",
    "1. エージェントは等しい初期資産1を持ち，ランダムに出会う\n",
    "2. エージェントは出会った他者に自分の資産を1単位わたす．ただし自分の資産が0以下の場合は何もしない\n",
    "\n",
    "この仮定の下でエージェントがランダムに出会って交換を繰り返すと，資産の分布はBoltzmann-Gibbs法則に従う．\n",
    "\n",
    "このモデルをPythonで計算してみよう．なおこの単純な計算のために，わざわざagentのクラスを定義する必要はない．\n",
    "しかしこのチュートリアルでは，オブジェクトの考え方に慣れるために，あえてクラスを使ったコードで計算する．"
   ]
  },
  {
   "cell_type": "markdown",
   "metadata": {},
   "source": [
    "はじめに計算に必要なライブラリを導入する．以下のコードは上から順番に入力していくことを前提にしている．"
   ]
  },
  {
   "cell_type": "code",
   "execution_count": 2,
   "metadata": {
    "collapsed": true
   },
   "outputs": [],
   "source": [
    "# ライブラリの導入\n",
    "import random\n",
    "import matplotlib.pyplot as plt\n",
    "import numpy.random as rd"
   ]
  },
  {
   "cell_type": "markdown",
   "metadata": {},
   "source": [
    "次にAgentのクラスを定義する"
   ]
  },
  {
   "cell_type": "code",
   "execution_count": 31,
   "metadata": {
    "collapsed": true
   },
   "outputs": [],
   "source": [
    "# define class of Agent\n",
    "class Agent:\n",
    "    def __init__(self, unique_id):\n",
    "        self.unique_id = unique_id #agentのid番号を記録する\n",
    "        self.wealth = 1 #初期資産の定義"
   ]
  },
  {
   "cell_type": "markdown",
   "metadata": {},
   "source": [
    "このクラスは初期化メソッドだけを含み，クラス固有のメソッドは持っていない．インスタンス化する際の引数はunique_idだけである（selfはpythonの仕様で必ず書く）．例えばx = Agent(2)のようにインスタンス化する．するとこの「2」がunique_idの値として保存される．\n",
    "実際にやってみよう．"
   ]
  },
  {
   "cell_type": "code",
   "execution_count": 25,
   "metadata": {
    "collapsed": true
   },
   "outputs": [],
   "source": [
    "x = Agent(2)"
   ]
  },
  {
   "cell_type": "markdown",
   "metadata": {},
   "source": [
    "このようにインスタンス化すると，オブジェクトxのインスタンス変数unique_idに値2が代入される．\n",
    "確認してみよう"
   ]
  },
  {
   "cell_type": "code",
   "execution_count": 27,
   "metadata": {
    "collapsed": false
   },
   "outputs": [
    {
     "data": {
      "text/plain": [
       "2"
      ]
     },
     "execution_count": 27,
     "metadata": {},
     "output_type": "execute_result"
    }
   ],
   "source": [
    "x.unique_id"
   ]
  },
  {
   "cell_type": "markdown",
   "metadata": {
    "collapsed": true
   },
   "source": [
    "次にAgentクラスをn個まとめてインスタンス化する．"
   ]
  },
  {
   "cell_type": "code",
   "execution_count": 59,
   "metadata": {
    "collapsed": true
   },
   "outputs": [],
   "source": [
    "# define No.of agents\n",
    "n = 10 \n",
    "\n",
    "# define agents (instance of Agent)\n",
    "agentｓ = [Agent(i) for i in range(n)] "
   ]
  },
  {
   "cell_type": "markdown",
   "metadata": {},
   "source": [
    "ここでは配列agentsにfor文を使ってn=10個のAgentクラスのオブジェクトを代入している．\n",
    "\n",
    "配列の中にfor文を書けるところが，ちょっとおもしろい．可読性も高いし，短くて済む．\n",
    "\n",
    "（こういう点がPythonの特徴のひとつだろう）\n",
    "\n",
    "agentsの中身を確認してみよう．"
   ]
  },
  {
   "cell_type": "code",
   "execution_count": 60,
   "metadata": {
    "collapsed": false
   },
   "outputs": [
    {
     "data": {
      "text/plain": [
       "[<__main__.Agent at 0x92a6b38>,\n",
       " <__main__.Agent at 0x7ac1198>,\n",
       " <__main__.Agent at 0x7ac1828>,\n",
       " <__main__.Agent at 0x7ac19e8>,\n",
       " <__main__.Agent at 0x7ac1630>,\n",
       " <__main__.Agent at 0x7ac15c0>,\n",
       " <__main__.Agent at 0x7ac1710>,\n",
       " <__main__.Agent at 0x7ac1320>,\n",
       " <__main__.Agent at 0x7ac1940>,\n",
       " <__main__.Agent at 0x7ac1c88>]"
      ]
     },
     "execution_count": 60,
     "metadata": {},
     "output_type": "execute_result"
    }
   ],
   "source": [
    "agents"
   ]
  },
  {
   "cell_type": "markdown",
   "metadata": {
    "collapsed": true
   },
   "source": [
    "__main__.Agent という表示でオブジェクトがat以下のメモリ上のアドレスに格納されたことが分かる.\n",
    "\n",
    "例えば0番目のAgentのメモリ上のアドレスを調べるにはid関数を使い，hexで16進数表示すると\n"
   ]
  },
  {
   "cell_type": "code",
   "execution_count": 34,
   "metadata": {
    "collapsed": false
   },
   "outputs": [
    {
     "data": {
      "text/plain": [
       "'0x79430b8'"
      ]
     },
     "execution_count": 34,
     "metadata": {},
     "output_type": "execute_result"
    }
   ],
   "source": [
    "hex(id(agents[0]))"
   ]
  },
  {
   "cell_type": "markdown",
   "metadata": {},
   "source": [
    "さきほど表示した配列agentsの中身と一致することが分かる．\n",
    "\n",
    "慣れないうちはagentsという配列の中には抽象的なAgentクラスのオブジェクトが入っていることがイメージしにくいかもしれない．\n",
    "そのような場合は個々のAgentを呼び出して属性を確認してやればよい．"
   ]
  },
  {
   "cell_type": "code",
   "execution_count": 37,
   "metadata": {
    "collapsed": false
   },
   "outputs": [
    {
     "data": {
      "text/plain": [
       "3"
      ]
     },
     "execution_count": 37,
     "metadata": {},
     "output_type": "execute_result"
    }
   ],
   "source": [
    "agents[3].unique_id"
   ]
  },
  {
   "cell_type": "markdown",
   "metadata": {},
   "source": [
    "ちゃんと配列の位置に対応したunique_idをAgentオブジェクトが持つことが示された．\n",
    "\n",
    "次にランダムマッチングしたAgentがお金のやりとりをする関数giving_moneyを定義する．\n",
    "\n",
    "（この部分をAgentクラスの固有メソッドとして定義してもいいのだが，無駄にややこしくなるので単純な関数として定義した）"
   ]
  },
  {
   "cell_type": "code",
   "execution_count": 61,
   "metadata": {
    "collapsed": true
   },
   "outputs": [],
   "source": [
    "# define functions\n",
    "def giving_money():\n",
    "    agent1 = random.choice(agents)# 1人ランダムに選ぶ\n",
    "    agent2 = random.choice(agents)# 1人ランダムに選ぶ\n",
    "    if agent1.wealth > 0:\n",
    "        agent2.wealth +=1 # 2の資産を1単位増やす\n",
    "        agent1.wealth -=1 #　1の資産が1減る"
   ]
  },
  {
   "cell_type": "markdown",
   "metadata": {},
   "source": [
    "この関数の動作は以下の通りである．\n",
    "\n",
    "1. まず，関数`random.choice`を使ってAgentを2人選び出す．\n",
    "2. 次にagent1の資産が1以上なら相手に渡す．\n",
    "\n",
    "まれに自分自身が相手になってしまうが，自分で自分に与えるので問題はない．\n",
    "\n",
    "ほかの言語の感覚からするとagentsを関数の引数にしなくていいのか？という気もするが\n",
    "さきほど確認したとおり，agentsをグローバルに定義しているので，参照できるようだ．\n",
    "\n",
    "これで準備完了．あとは繰り返し回数timeを指定して,関数`giving_money()`を\n",
    "for文で繰り返し実行すればよい"
   ]
  },
  {
   "cell_type": "code",
   "execution_count": 46,
   "metadata": {
    "collapsed": true
   },
   "outputs": [],
   "source": [
    "time = 10 # define No. of interaction　\n",
    "                \n",
    "# compute interactions    \n",
    "for i in range(time):\n",
    "    giving_money()"
   ]
  },
  {
   "cell_type": "markdown",
   "metadata": {},
   "source": [
    "以上で終了．\n",
    "計算の結果を確認してみよう．"
   ]
  },
  {
   "cell_type": "code",
   "execution_count": 50,
   "metadata": {
    "collapsed": false
   },
   "outputs": [
    {
     "data": {
      "text/plain": [
       "(array([ 3.,  0.,  0.,  5.,  0.,  0.,  1.,  0.,  0.,  1.]),\n",
       " array([ 0. ,  0.3,  0.6,  0.9,  1.2,  1.5,  1.8,  2.1,  2.4,  2.7,  3. ]),\n",
       " <a list of 10 Patch objects>)"
      ]
     },
     "execution_count": 50,
     "metadata": {},
     "output_type": "execute_result"
    },
    {
     "data": {
      "image/png": "[encoded data removed]",
      "text/plain": [
       "<matplotlib.figure.Figure at 0x827dd68>"
      ]
     },
     "metadata": {},
     "output_type": "display_data"
    }
   ],
   "source": [
    "# analyze statistics                \n",
    "agent_wealth = [x.wealth for x in agents]# 各自の資産を取り出す．\n",
    "%matplotlib inline\n",
    "#jupyterでplotをインライン表示するための命令\n",
    "# 交換後の資産分布\n",
    "plt.hist(agent_wealth)#plot a histogram\n"
   ]
  },
  {
   "cell_type": "markdown",
   "metadata": {},
   "source": [
    "agent_wealth = [x.wealth for x in agents]\n",
    "\n",
    "は，各Agentの属性wealthだけを取り出した配列を作っている．\n",
    "\n",
    "では最初からコードをまとめて，計算後の資産分布をplotするまで実行してみよう\n",
    "\n",
    "n=50, time=500と仮定する．"
   ]
  },
  {
   "cell_type": "code",
   "execution_count": 55,
   "metadata": {
    "collapsed": false
   },
   "outputs": [
    {
     "data": {
      "text/plain": [
       "(array([ 26.,  10.,   8.,   0.,   3.,   2.,   0.,   0.,   0.,   1.]),\n",
       " array([ 0. ,  0.7,  1.4,  2.1,  2.8,  3.5,  4.2,  4.9,  5.6,  6.3,  7. ]),\n",
       " <a list of 10 Patch objects>)"
      ]
     },
     "execution_count": 55,
     "metadata": {},
     "output_type": "execute_result"
    },
    {
     "data": {
      "image/png": "[encoded data removed]",
      "text/plain": [
       "<matplotlib.figure.Figure at 0x92fee10>"
      ]
     },
     "metadata": {},
     "output_type": "display_data"
    }
   ],
   "source": [
    "# ライブラリの導入\n",
    "import random\n",
    "import matplotlib.pyplot as plt\n",
    "import numpy.random as rd\n",
    "\n",
    "# define class of Agent\n",
    "class Agent:\n",
    "    def __init__(self, unique_id):\n",
    "        self.unique_id = unique_id #agentのid番号を記録する\n",
    "        self.wealth = 1 #初期資産の定義\n",
    "\n",
    "# define functions\n",
    "def giving_money():\n",
    "    agent1 = random.choice(agents)# 1人ランダムに選ぶ\n",
    "    agent2 = random.choice(agents)# 1人ランダムに選ぶ\n",
    "    if agent1.wealth > 0:\n",
    "        agent2.wealth +=1 # 2の資産を1単位増やす\n",
    "        agent1.wealth -=1 #　1の資産が1減る\n",
    "\n",
    "n = 50 # define No.of agents\n",
    "time = 500 # define No. of interaction　\n",
    "\n",
    "# define agents (instance of Agent)\n",
    "agentｓ = [Agent(i) for i in range(n)] \n",
    "\n",
    "# compute interactions    \n",
    "for i in range(time):\n",
    "    giving_money()\n",
    "     \n",
    "# analyze statistics                \n",
    "agent_wealth = [x.wealth for x in agents]# 各自の資産を取り出す．\n",
    "%matplotlib inline\n",
    "plt.hist(agent_wealth)#plot a histogram"
   ]
  },
  {
   "cell_type": "markdown",
   "metadata": {},
   "source": [
    "計算の結果，現実の所得分の特徴を再現した分布が生成された"
   ]
  },
  {
   "cell_type": "markdown",
   "metadata": {},
   "source": [
    "ちなみにクラスを使わず関数だけで書くと，さらにコードはシンプルになる．\n",
    "以下はMathematicaで作った例．"
   ]
  },
  {
   "cell_type": "markdown",
   "metadata": {},
   "source": [
    "```mathematica\n",
    "moneymodel[n_, k_] := Module[{money, id, give},\n",
    "  id = Range[n];\n",
    "  money = Table[1, {n}];(* 初期資産の設定 *)\n",
    "  (* interaction 用の関数定義*)\n",
    "  give[] := Module[{self, other},\n",
    "    self = RandomInteger[{1, n}];\n",
    "    other = RandomInteger[{1, n}];\n",
    "    If[money[[self]] > 0,\n",
    "     money[[other]] = money[[other]] + 1;\n",
    "     money[[self]] = money[[self]] - 1]];\n",
    "  Do[give[], {k}];\n",
    "  Histogram[money]]\n",
    "```"
   ]
  },
  {
   "cell_type": "markdown",
   "metadata": {},
   "source": [
    "この関数　moneymodel[n, k] の引数は`n`がエージェントの数で`k`が試行回数(ランダムマッチの回数)である．"
   ]
  }
 ],
 "metadata": {
  "anaconda-cloud": {},
  "kernelspec": {
   "display_name": "Python [default]",
   "language": "python",
   "name": "python3"
  },
  "language_info": {
   "codemirror_mode": {
    "name": "ipython",
    "version": 3
   },
   "file_extension": ".py",
   "mimetype": "text/x-python",
   "name": "python",
   "nbconvert_exporter": "python",
   "pygments_lexer": "ipython3",
   "version": "3.5.2"
  }
 },
 "nbformat": 4,
 "nbformat_minor": 2
}
